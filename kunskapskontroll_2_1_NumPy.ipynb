{
 "cells": [
  {
   "cell_type": "markdown",
   "id": "dacf74e6",
   "metadata": {},
   "source": [
    "# NumPy"
   ]
  },
  {
   "cell_type": "markdown",
   "id": "01b2bf34",
   "metadata": {},
   "source": [
    "Read the links: https://numpy.org/doc/stable/user/quickstart.html  and https://numpy.org/doc/stable/user/basics.broadcasting.html  before solving the exercises. "
   ]
  },
  {
   "cell_type": "code",
   "execution_count": 2,
   "id": "1f79e4a6",
   "metadata": {},
   "outputs": [],
   "source": [
    "import numpy as np"
   ]
  },
  {
   "cell_type": "markdown",
   "id": "7dae6889",
   "metadata": {},
   "source": [
    "### Print out the dimension (number of axes), shape, size and the datatype of the matrix A."
   ]
  },
  {
   "cell_type": "code",
   "execution_count": 5,
   "id": "7b3678cd",
   "metadata": {},
   "outputs": [],
   "source": [
    "A = np.arange(1, 16).reshape(3,5)\n"
   ]
  },
  {
   "cell_type": "code",
   "execution_count": 24,
   "id": "16d87dbe",
   "metadata": {},
   "outputs": [
    {
     "name": "stdout",
     "output_type": "stream",
     "text": [
      "[[ 1  2  3  4  5]\n",
      " [ 6  7  8  9 10]\n",
      " [11 12 13 14 15]]\n",
      "(3, 5)\n",
      "2\n",
      "int32\n",
      "4\n",
      "15\n"
     ]
    },
    {
     "data": {
      "text/plain": [
       "numpy.ndarray"
      ]
     },
     "execution_count": 24,
     "metadata": {},
     "output_type": "execute_result"
    }
   ],
   "source": [
    "print(A)\n",
    "print(A.shape)\n",
    "print(A.ndim)\n",
    "print(A.dtype.name)\n",
    "print(A.itemsize)\n",
    "print(A.size)\n",
    "type(A)"
   ]
  },
  {
   "cell_type": "code",
   "execution_count": 17,
   "id": "c8e7a046",
   "metadata": {},
   "outputs": [
    {
     "data": {
      "text/plain": [
       "numpy.ndarray"
      ]
     },
     "execution_count": 17,
     "metadata": {},
     "output_type": "execute_result"
    }
   ],
   "source": [
    "A.shape\n",
    "(3, 5)\n",
    "A.ndim\n",
    "2\n",
    "A.dtype.name\n",
    "'int32'\n",
    "A.itemsize\n",
    "4\n",
    "A.size\n",
    "15\n",
    "type(A)\n",
    "np.ndarray\n",
    "B = np.array([6, 7, 8])\n",
    "B\n",
    "np.array([6, 7 ,8])\n",
    "type(B)"
   ]
  },
  {
   "cell_type": "markdown",
   "id": "e56d2a96",
   "metadata": {},
   "source": [
    "### Do the following computations on the matrices B and C: \n",
    "* Elementwise subtraction. \n",
    "* Elementwise multiplication. \n",
    "* Matrix multiplication (by default you should use the @ operator)."
   ]
  },
  {
   "cell_type": "code",
   "execution_count": 25,
   "id": "a7053fbb",
   "metadata": {},
   "outputs": [
    {
     "name": "stdout",
     "output_type": "stream",
     "text": [
      "[[1 2 3]\n",
      " [4 5 6]\n",
      " [7 8 9]]\n",
      "\n",
      "[[2. 2. 2.]\n",
      " [2. 2. 2.]\n",
      " [2. 2. 2.]]\n"
     ]
    }
   ],
   "source": [
    "B = np.arange(1, 10).reshape(3, 3)\n",
    "C = np.ones((3, 3))*2\n",
    "\n",
    "print(B)\n",
    "print()\n",
    "print(C)"
   ]
  },
  {
   "cell_type": "code",
   "execution_count": 27,
   "id": "3cd794ae",
   "metadata": {},
   "outputs": [
    {
     "data": {
      "text/plain": [
       "array([[ 2.,  4.,  6.],\n",
       "       [ 8., 10., 12.],\n",
       "       [14., 16., 18.]])"
      ]
     },
     "execution_count": 27,
     "metadata": {},
     "output_type": "execute_result"
    }
   ],
   "source": [
    "B * C"
   ]
  },
  {
   "cell_type": "code",
   "execution_count": 28,
   "id": "870ab565",
   "metadata": {},
   "outputs": [
    {
     "data": {
      "text/plain": [
       "array([[-1.,  0.,  1.],\n",
       "       [ 2.,  3.,  4.],\n",
       "       [ 5.,  6.,  7.]])"
      ]
     },
     "execution_count": 28,
     "metadata": {},
     "output_type": "execute_result"
    }
   ],
   "source": [
    "B - C"
   ]
  },
  {
   "cell_type": "code",
   "execution_count": 29,
   "id": "e280503a",
   "metadata": {},
   "outputs": [
    {
     "data": {
      "text/plain": [
       "array([[12., 12., 12.],\n",
       "       [30., 30., 30.],\n",
       "       [48., 48., 48.]])"
      ]
     },
     "execution_count": 29,
     "metadata": {},
     "output_type": "execute_result"
    }
   ],
   "source": [
    "B @ C"
   ]
  },
  {
   "cell_type": "markdown",
   "id": "96030d53",
   "metadata": {},
   "source": [
    "### Do the following calculations on the matrix:\n",
    "* Exponentiate each number elementwise (use the np.exp function).\n",
    "\n",
    "* Calculate the minimum value in the whole matrix. \n",
    "* Calculcate the minimum value in each row. \n",
    "* Calculcate the minimum value in each column. \n",
    "\n",
    "\n",
    "* Find the index value for the minimum value in the whole matrix (hint: use np.argmin).\n",
    "* Find the index value for the minimum value in each row (hint: use np.argmin).\n",
    "\n",
    "\n",
    "* Calculate the sum for all elements.\n",
    "* Calculate the mean for each column. \n",
    "* Calculate the median for each column. "
   ]
  },
  {
   "cell_type": "code",
   "execution_count": 30,
   "id": "f8a9166b",
   "metadata": {},
   "outputs": [
    {
     "name": "stdout",
     "output_type": "stream",
     "text": [
      "[[1 2 3]\n",
      " [4 5 6]\n",
      " [7 8 9]]\n"
     ]
    }
   ],
   "source": [
    "B = np.arange(1, 10).reshape(3, 3)\n",
    "print(B)"
   ]
  },
  {
   "cell_type": "code",
   "execution_count": 31,
   "id": "f03f24f7",
   "metadata": {},
   "outputs": [
    {
     "data": {
      "text/plain": [
       "array([[2.71828183e+00, 7.38905610e+00, 2.00855369e+01],\n",
       "       [5.45981500e+01, 1.48413159e+02, 4.03428793e+02],\n",
       "       [1.09663316e+03, 2.98095799e+03, 8.10308393e+03]])"
      ]
     },
     "execution_count": 31,
     "metadata": {},
     "output_type": "execute_result"
    }
   ],
   "source": [
    "np.exp(B)"
   ]
  },
  {
   "cell_type": "code",
   "execution_count": 32,
   "id": "831d605a",
   "metadata": {},
   "outputs": [
    {
     "data": {
      "text/plain": [
       "1"
      ]
     },
     "execution_count": 32,
     "metadata": {},
     "output_type": "execute_result"
    }
   ],
   "source": [
    "np.min(B)"
   ]
  },
  {
   "cell_type": "code",
   "execution_count": 39,
   "id": "84e7b69b",
   "metadata": {},
   "outputs": [
    {
     "data": {
      "text/plain": [
       "array([1, 2, 3])"
      ]
     },
     "execution_count": 39,
     "metadata": {},
     "output_type": "execute_result"
    }
   ],
   "source": [
    "B.min(axis=0)"
   ]
  },
  {
   "cell_type": "code",
   "execution_count": 40,
   "id": "f2abcc67",
   "metadata": {},
   "outputs": [
    {
     "data": {
      "text/plain": [
       "array([1, 4, 7])"
      ]
     },
     "execution_count": 40,
     "metadata": {},
     "output_type": "execute_result"
    }
   ],
   "source": [
    "B.min(axis=1)\n"
   ]
  },
  {
   "cell_type": "code",
   "execution_count": 44,
   "id": "be8a8543",
   "metadata": {},
   "outputs": [
    {
     "data": {
      "text/plain": [
       "0"
      ]
     },
     "execution_count": 44,
     "metadata": {},
     "output_type": "execute_result"
    }
   ],
   "source": [
    "B.argmin()"
   ]
  },
  {
   "cell_type": "code",
   "execution_count": 45,
   "id": "c5861b40",
   "metadata": {},
   "outputs": [
    {
     "data": {
      "text/plain": [
       "array([0, 0, 0], dtype=int64)"
      ]
     },
     "execution_count": 45,
     "metadata": {},
     "output_type": "execute_result"
    }
   ],
   "source": [
    "B.argmin(axis=1)"
   ]
  },
  {
   "cell_type": "code",
   "execution_count": 47,
   "id": "f7b4e2c5",
   "metadata": {},
   "outputs": [
    {
     "data": {
      "text/plain": [
       "45"
      ]
     },
     "execution_count": 47,
     "metadata": {},
     "output_type": "execute_result"
    }
   ],
   "source": [
    "B.sum()"
   ]
  },
  {
   "cell_type": "code",
   "execution_count": 48,
   "id": "85ec737f",
   "metadata": {},
   "outputs": [
    {
     "data": {
      "text/plain": [
       "array([2., 5., 8.])"
      ]
     },
     "execution_count": 48,
     "metadata": {},
     "output_type": "execute_result"
    }
   ],
   "source": [
    "B.mean(axis=1)"
   ]
  },
  {
   "cell_type": "code",
   "execution_count": 59,
   "id": "9acc44f0",
   "metadata": {},
   "outputs": [
    {
     "data": {
      "text/plain": [
       "array([2., 5., 8.])"
      ]
     },
     "execution_count": 59,
     "metadata": {},
     "output_type": "execute_result"
    }
   ],
   "source": [
    "np.median(B, axis=1)"
   ]
  },
  {
   "cell_type": "markdown",
   "id": "541eb7ba",
   "metadata": {},
   "source": [
    "### What does it mean when you provide fewer indices than axes when slicing? See example below."
   ]
  },
  {
   "cell_type": "code",
   "execution_count": 60,
   "id": "9c8abf56",
   "metadata": {},
   "outputs": [
    {
     "name": "stdout",
     "output_type": "stream",
     "text": [
      "[[ 1  2  3  4  5]\n",
      " [ 6  7  8  9 10]\n",
      " [11 12 13 14 15]]\n"
     ]
    }
   ],
   "source": [
    "print(A)"
   ]
  },
  {
   "cell_type": "code",
   "execution_count": 65,
   "id": "69415f7b",
   "metadata": {},
   "outputs": [
    {
     "data": {
      "text/plain": [
       "array([ 6,  7,  8,  9, 10])"
      ]
     },
     "execution_count": 65,
     "metadata": {},
     "output_type": "execute_result"
    }
   ],
   "source": [
    "A[1]"
   ]
  },
  {
   "cell_type": "markdown",
   "id": "6c53541b",
   "metadata": {},
   "source": [
    "**Answer:**"
   ]
  },
  {
   "cell_type": "markdown",
   "id": "de01e120",
   "metadata": {},
   "source": [
    "Numpy gör så att dem axlarna du anger, kommer ha \"slicing\", dem axlerna som du inte har med appliceras en implict : som gör att alla element inkluderas i dem axlarna du väljer. Detta gör att du inte behöver ange alla axlar som du vill \"slicea\""
   ]
  },
  {
   "cell_type": "markdown",
   "id": "6652d0c9",
   "metadata": {},
   "source": [
    "### Iterating over multidimensional arrays is done with respect to the first axis, so in the example below we iterate trough the rows. If you would like to iterate through the array *elementwise*, how would you do that?"
   ]
  },
  {
   "cell_type": "code",
   "execution_count": 66,
   "id": "9459864f",
   "metadata": {},
   "outputs": [
    {
     "data": {
      "text/plain": [
       "array([[ 1,  2,  3,  4,  5],\n",
       "       [ 6,  7,  8,  9, 10],\n",
       "       [11, 12, 13, 14, 15]])"
      ]
     },
     "execution_count": 66,
     "metadata": {},
     "output_type": "execute_result"
    }
   ],
   "source": [
    "A"
   ]
  },
  {
   "cell_type": "code",
   "execution_count": 67,
   "id": "a671bb5a",
   "metadata": {},
   "outputs": [
    {
     "name": "stdout",
     "output_type": "stream",
     "text": [
      "[1 2 3 4 5]\n",
      "[ 6  7  8  9 10]\n",
      "[11 12 13 14 15]\n"
     ]
    }
   ],
   "source": [
    "for i in A:\n",
    "    print(i)"
   ]
  },
  {
   "cell_type": "code",
   "execution_count": 68,
   "id": "f4e443a0",
   "metadata": {},
   "outputs": [
    {
     "name": "stdout",
     "output_type": "stream",
     "text": [
      "1\n",
      "2\n",
      "3\n",
      "4\n",
      "5\n",
      "6\n",
      "7\n",
      "8\n",
      "9\n",
      "10\n",
      "11\n",
      "12\n",
      "13\n",
      "14\n",
      "15\n"
     ]
    }
   ],
   "source": [
    "for element in A.flat:\n",
    "    print(element)"
   ]
  },
  {
   "cell_type": "markdown",
   "id": "608a2583",
   "metadata": {},
   "source": [
    "### Explain what the code below does. More specifically, b has three axes - what does this mean? "
   ]
  },
  {
   "cell_type": "code",
   "execution_count": 85,
   "id": "f8f9b26f",
   "metadata": {},
   "outputs": [
    {
     "name": "stdout",
     "output_type": "stream",
     "text": [
      "[ 0  1  2  3  4  5  6  7  8  9 10 11 12 13 14 15 16 17 18 19 20 21 22 23\n",
      " 24 25 26 27 28 29]\n",
      "\n",
      "[[[ 0  1  2  3  4]\n",
      "  [ 5  6  7  8  9]\n",
      "  [10 11 12 13 14]]\n",
      "\n",
      " [[15 16 17 18 19]\n",
      "  [20 21 22 23 24]\n",
      "  [25 26 27 28 29]]]\n"
     ]
    }
   ],
   "source": [
    "a = np.arange(30)\n",
    "b = a.reshape((2, 3, -1))\n",
    "print(a)\n",
    "print()\n",
    "\n",
    "print(b)"
   ]
  },
  {
   "cell_type": "markdown",
   "id": "863a45df",
   "metadata": {},
   "source": [
    "a = np.arange(30) = skapar och ränkar ut en numpay array med 30 element. \n",
    "b = a.reshape((2, 3, -1)) = Omformar array från en 2D till en 3D-array med formen (2, 3, -1,) där 2 står för hur många \"lager\" som elementen ska formeteras i, 3 står för hur många rader som ska bildas i varje \"lager\" och får då 3 \"axes\". -1 gör så att Numpy förstår att man vill att alla 30 element ska få plats i dessa 2 blocken som man vill omformera. \n",
    "\n",
    "\n"
   ]
  },
  {
   "cell_type": "markdown",
   "id": "421c9607-819a-401d-949a-97424436fe29",
   "metadata": {},
   "source": [
    "# For the exercises below, read the document *\"matematik_yh_antonio_vektorer_matriser_utdrag\"*\n",
    "# Solutions to the exercises and recorded videos can be found here: https://github.com/AntonioPrgomet/matematik_foer_yh\n",
    "\n",
    "# If you find the exercises below very hard, do not worry. Try your best, that will be enough. "
   ]
  },
  {
   "cell_type": "markdown",
   "id": "ab5933d5",
   "metadata": {},
   "source": [
    "### Broadcasting\n",
    "**Read the following link about broadcasting: https://numpy.org/doc/stable/user/basics.broadcasting.html#basics-broadcasting**"
   ]
  },
  {
   "cell_type": "markdown",
   "id": "039805ba",
   "metadata": {},
   "source": [
    "# Remark on Broadcasting when doing Linear Algebra calculations in Python. "
   ]
  },
  {
   "cell_type": "markdown",
   "id": "c4bcc147",
   "metadata": {},
   "source": [
    "### From the mathematical rules of matrix addition, the operation below (m1 + m2) does not make sense. The reason is that matrix addition requires two matrices of the same size. In Python however, it works due to broadcasting rules in NumPy. So you must be careful when doing Linear Algebra calculations in Python since they do not follow the \"mathematical rules\". This can however easily be handled by doing some simple programming, for example validating that two matrices have the same shape is easy if you for instance want to add two matrices. "
   ]
  },
  {
   "cell_type": "code",
   "execution_count": 87,
   "id": "1fd46778",
   "metadata": {},
   "outputs": [
    {
     "name": "stdout",
     "output_type": "stream",
     "text": [
      "[[2 3]\n",
      " [4 5]]\n"
     ]
    }
   ],
   "source": [
    "m1 = np.array([[1, 2], [3, 4]])\n",
    "m2 = np.array([1, 1])\n",
    "print(m1 + m2)"
   ]
  },
  {
   "cell_type": "markdown",
   "id": "047d6576",
   "metadata": {},
   "source": [
    "### The example below would also not be allowed if following the \"mathematical rules\" in Linear Algebra. But it works due to broadcasting in NumPy. "
   ]
  },
  {
   "cell_type": "code",
   "execution_count": 88,
   "id": "5e6ef2e4",
   "metadata": {},
   "outputs": [
    {
     "name": "stdout",
     "output_type": "stream",
     "text": [
      "[2 3 4]\n"
     ]
    }
   ],
   "source": [
    "v1 = np.array([1, 2, 3])\n",
    "print(v1 + 1)"
   ]
  },
  {
   "cell_type": "code",
   "execution_count": 89,
   "id": "e2cbae26",
   "metadata": {},
   "outputs": [
    {
     "name": "stdout",
     "output_type": "stream",
     "text": [
      "[[1 2]\n",
      " [3 4]]\n",
      "[2 2]\n"
     ]
    }
   ],
   "source": [
    "A = np.arange(1, 5).reshape(2,2)\n",
    "print(A)\n",
    "\n",
    "b = np.array([2, 2])\n",
    "print(b)"
   ]
  },
  {
   "cell_type": "markdown",
   "id": "722fd5cd",
   "metadata": {},
   "source": [
    "# Vector- and matrix algebra Exercises"
   ]
  },
  {
   "cell_type": "markdown",
   "id": "b63a3081-d976-4d9f-bfd0-a63917e79f7d",
   "metadata": {},
   "source": [
    "**Now you are going to create a function that can be reused every time you add or multiply matrices. The function is created so that we do the addition and multiplication according to the rules of vector- and matrix algebra.**\n",
    "\n",
    "**Create a function \"add_mult_matrices\" that takes two matrices as input arguments (validate that the input are of the type numpy.ndarray by using the isinstance function), a third argument that is either 'add' or 'multiply' that specifies if you want to add or multiply the matrices (validate that the third argument is either 'add' or 'multiply'). When doing matrix addition, validate that the matrices have the same size. When doing matrix multiplication, validate that the sizes conform (i.e. number of columns in the first matrix is equal to the number of rows in the second matrix).**"
   ]
  },
  {
   "cell_type": "code",
   "execution_count": 264,
   "id": "3506f977-ac0a-473f-85bc-eec9f35dc498",
   "metadata": {},
   "outputs": [
    {
     "name": "stdout",
     "output_type": "stream",
     "text": [
      "[[ 6  8]\n",
      " [ 9 12]]\n",
      "[[19 22]\n",
      " [38 44]]\n"
     ]
    }
   ],
   "source": [
    "def add_mult_matrices(matrix1, matrix2, add_or_mult):\n",
    "    if not isinstance(matrix1, np.ndarray):\n",
    "        raise ValueError('Both inputs must be the type of numpy.ndarrys')\n",
    "    if not isinstance(matrix2, np.ndarray):\n",
    "        raise ValueError('Both inputs must be the type of numpy.ndarrys')\n",
    "    \n",
    "    if add_or_mult not in('add', 'multiply'):\n",
    "        raise ValueError('the add_or_mult must be in add of multiply')\n",
    "    \n",
    "    if add_or_mult == 'add':\n",
    "        if matrix1.shape != matrix2.shape:\n",
    "            raise ValueError('Matrics must be the same size for add')\n",
    "        return matrix1 + matrix2 \n",
    "    \n",
    "    if add_or_mult == 'multiply':\n",
    "        if matrix1.shape[1] != matrix2.shape[0]:\n",
    "            raise ValueError('Number of columns in the first matrix must equal the number of rows in the second matrix for multiplication')\n",
    "        return np.dot(matrix1, matrix2)\n",
    "    \n",
    "matrix1 = np.array([[1, 2], [2, 4]])\n",
    "matrix2 = np.array([[5, 6], [7, 8]])\n",
    "    \n",
    "add_result= add_mult_matrices(matrix1, matrix2, 'add')\n",
    "mult_result = add_mult_matrices(matrix1, matrix2, 'multiply')\n",
    "\n",
    "print(add_result)\n",
    "print(mult_result)\n",
    "\n",
    "# add_result1= add_mult_matrices(matrix1, matrix2, 'tjoho') test om det skulle komma upp ett valueerror\n",
    "\n",
    "\n",
    "\n",
    "\n",
    "    "
   ]
  },
  {
   "cell_type": "markdown",
   "id": "8dad82d0-2359-4dff-8f5b-a57d3e34103c",
   "metadata": {},
   "source": [
    "### Solve all the exercises in chapter 10.1 in the book \"Matematik för yrkeshögskolan\" by using Python. "
   ]
  },
  {
   "cell_type": "code",
   "execution_count": 265,
   "id": "89df88af-3668-4d98-a0a4-e6d92eea0f89",
   "metadata": {},
   "outputs": [
    {
     "name": "stdout",
     "output_type": "stream",
     "text": [
      "a\n",
      "(2,)\n",
      "b\n",
      "[20 15]\n",
      "c\n",
      "[12  9]\n",
      "d\n",
      "[32 24]\n",
      "e\n",
      "[32 24]\n",
      "f\n",
      "[12  9]\n",
      "g\n",
      "[[4]\n",
      " [3]]\n",
      "h\n",
      "[8 6]\n",
      "i\n",
      "5.0\n"
     ]
    }
   ],
   "source": [
    "# Uppgift 10.1.1\n",
    " \n",
    "x = np.array([4, 3])\n",
    "\n",
    "# a) Svar: 1 x 2 \n",
    "print(\"a\")\n",
    "print(x.shape)\n",
    "# b) svar:    (5 x 4)\n",
    "#             (5 x 3) = (20,15)\n",
    "five_x = 5* x\n",
    "print(\"b\")\n",
    "print(five_x)\n",
    "\n",
    "# c) svar:    (3 x 4)\n",
    "#             (3 x 3) = (12,9)\n",
    "\n",
    "three_x = 3* x\n",
    "print(\"c\")\n",
    "print(three_x)\n",
    "\n",
    "# d) svar:    (5 x 4)\n",
    "#             (5 x 3) = (20,15)\n",
    "#             (3 x 4)\n",
    "#             (3 x 5) = (12,15) \n",
    "#             (20,15) + (12,9) = (32,24)\n",
    "\n",
    "five_x = 5* x \n",
    "three_x = 3* x\n",
    "print(\"d\")\n",
    "print(five_x + three_x)\n",
    "            \n",
    "# e) svar:    (8 x 4)\n",
    "#             (8 x 3) = (32,24)\n",
    "\n",
    "eight_x = 8* x\n",
    "print(\"e\")\n",
    "print(eight_x)\n",
    "\n",
    "# f) svar:    (4 x 4)\n",
    "#             (4 x 3) = (16, 12) - (4, 3) = (12, 9)\n",
    "\n",
    "four_x = 4* x\n",
    "print(\"f\")\n",
    "print(four_x - x)\n",
    "\n",
    "# g) svar: Det blir en Kolumvektor istället (4)\n",
    "#                                           (3)\n",
    "x_transportering = x.reshape(2, 1)\n",
    "print(\"g\")\n",
    "print(x_transportering)\n",
    "  \n",
    "# h) svar: Det är inte definerat då en vektor är 2 x 1 och andra är 1 x 2\n",
    "\n",
    "print(\"h\")\n",
    "print(x + x.T)\n",
    "\n",
    "# i) svar: 25. Uträkning gåt ett att göra här.  -->\n",
    "\n",
    "norm = np.linalg.norm(x)\n",
    "print(\"i\")\n",
    "print(norm)\n",
    "\n",
    "\n",
    "\n",
    "\n",
    "\n"
   ]
  },
  {
   "cell_type": "code",
   "execution_count": 237,
   "id": "09f972e3",
   "metadata": {},
   "outputs": [
    {
     "name": "stdout",
     "output_type": "stream",
     "text": [
      "a\n",
      "(4,)\n",
      "b\n",
      "[ 6 14  0 22]\n",
      "c\n",
      "[21 49  0 77]\n",
      "d\n",
      "[ 6 14  0 22]\n",
      "e\n",
      "[[ 3  7  0 11]]\n",
      "f\n",
      "13.379088160259652\n"
     ]
    }
   ],
   "source": [
    "# Uppgift 10.1.2\n",
    "\n",
    "v = np.array([3, 7, 0, 11])\n",
    "\n",
    "# a) svar: 4\n",
    "\n",
    "print(\"a\")\n",
    "print(v.shape)\n",
    "\n",
    "# b) svar: 6 14 0 22\n",
    "\n",
    "two_v = 2* v\n",
    "print(\"b\")\n",
    "print(two_v)\n",
    "\n",
    "# c) svar: [21, 49, 0, 77]\n",
    "\n",
    "five_v = 5* v\n",
    "two_v = 2* v\n",
    "print(\"c\")\n",
    "print(five_v + two_v)\n",
    "\n",
    "# d) svar: [6, 14, 0, 22]\n",
    "\n",
    "four_v = 4* v\n",
    "two_v = 2* v\n",
    "print(\"d\")\n",
    "print(four_v - two_v)\n",
    "\n",
    "#e) svar: [3 7 0 11] \n",
    "\n",
    "v_transportering = v.reshape(1, -1)\n",
    "print(\"e\")\n",
    "print(v_transportering)\n",
    "\n",
    "#f) svar: 13.3790...\n",
    "\n",
    "norm = np.linalg.norm(v)\n",
    "print(\"f\")\n",
    "print(norm)"
   ]
  },
  {
   "cell_type": "code",
   "execution_count": 165,
   "metadata": {},
   "outputs": [
    {
     "name": "stdout",
     "output_type": "stream",
     "text": [
      "7.14142842854285\n",
      "3.2684450823354334\n"
     ]
    }
   ],
   "source": [
    "# Uppgift 10.1.3 \n",
    "\n",
    "v1 = np.array([4, 3, 1, 5])\n",
    "v2 = np.array([2, 3, 1, 1])\n",
    "\n",
    "# a) svar: 7.14142842..\n",
    "\n",
    "norm = np.linalg.norm(v1)\n",
    "print(\"a\")\n",
    "print(norm)\n",
    "\n",
    "# b) svar: 3.26844508.. \n",
    "\n",
    "norm1 = np.linalg.norm(v1)\n",
    "norm2 = np.linalg.norm(v2)\n",
    "print(\"b\")\n",
    "print(norm1 - norm2)\n",
    "\n",
    "\n",
    " "
   ]
  },
  {
   "cell_type": "markdown",
   "id": "75c98984-1f88-4df1-b850-d2466de444a5",
   "metadata": {},
   "source": [
    "### Solve all the exercises, except 10.2.4, in chapter 10.2 in the book \"Matematik för yrkeshögskolan\" by using Python. "
   ]
  },
  {
   "cell_type": "code",
   "execution_count": 239,
   "id": "65371610-16e1-48b2-b7fb-65e49002608a",
   "metadata": {},
   "outputs": [
    {
     "name": "stdout",
     "output_type": "stream",
     "text": [
      "a\n",
      "[[ 4  2 -2]\n",
      " [ 2 -2  2]]\n",
      "b\n",
      "[[ 4 -2  1]\n",
      " [ 2 -4 -2]]\n",
      "[[ 0 -4  3]\n",
      " [ 0 -2 -4]]\n",
      "c\n",
      "d\n",
      "[[3 2]\n",
      " [2 3]]\n",
      "e\n",
      "[[ 9 12]\n",
      " [12  9]]\n",
      "f\n",
      "[[-4 -4]\n",
      " [-4 -4]]\n",
      "g\n",
      "ej definerad\n",
      "h.\n",
      "[[ 4  5]\n",
      " [-1  1]\n",
      " [ 1 -1]]\n",
      "i\n",
      "[[11 10]\n",
      " [10 11]]\n",
      "j\n",
      "[[  8 -10  -3]\n",
      " [ 10  -8   0]]\n",
      "k\n",
      "[[1 2]\n",
      " [2 1]]\n",
      "l\n",
      "[[5 2]\n",
      " [7 4]]\n"
     ]
    }
   ],
   "source": [
    "# Uppgift 10.2.1\n",
    "\n",
    "# a) svar: [4 2 -2 2 -2 2]\n",
    "\n",
    "A = np.array([[2, 1, -1], [1, -1, 1]])\n",
    "\n",
    "two_a = 2* A\n",
    "print(\"a\")\n",
    "print(two_a)\n",
    "\n",
    "# b) svar: [0 4 -3 0 2 4]\n",
    "\n",
    "B = np.array([[4, -2, 1], [2, -4, -2]])\n",
    "\n",
    "print(\"b\")\n",
    "print(B)\n",
    "print(B - two_a)\n",
    "\n",
    "# c) svar: \n",
    "\n",
    "C = np.array([[1, 2], [2, 1]])\n",
    "E = np.array([1, 2])\n",
    "\n",
    "print(\"c\")\n",
    "try:\n",
    "    three_C = 3* C\n",
    "    two_E = 2* E\n",
    "except:\n",
    "    print('Ej definerad')\n",
    "\n",
    "# d) svar: [2, 2, 2, 2]\n",
    "\n",
    "D = np.array([[3, 4], [4, 3]])\n",
    "\n",
    "two_D = 2* D\n",
    "three_C = 3* C\n",
    "\n",
    "print(\"d\")\n",
    "print(two_D - three_C)\n",
    "\n",
    "# e) svar: [9, 12, 12, 9]\n",
    "print(\"e\")\n",
    "print(D.T + two_D)\n",
    "\n",
    "# f) svar: [-4 -4 -4 -4]\n",
    "two_C = 2* C\n",
    "two_D = 2* D\n",
    "print(\"f\") \n",
    "print(two_C.T - two_D.T)\n",
    "\n",
    "# g) svar: \n",
    "print(\"g\")\n",
    "try:\n",
    "    print(A.T - B)\n",
    "except:\n",
    "    print('ej definerad')\n",
    "\n",
    "\n",
    "# h)\n",
    "print(\"h.\")\n",
    "print(A.T @ C)\n",
    " \n",
    "\n",
    "# i) \n",
    "print(\"i\")\n",
    "print(C @ D)\n",
    "\n",
    "# j)\n",
    "print(\"j\")\n",
    "print(C @ B)\n",
    "\n",
    "# k)\n",
    "I = np.array([[1, 0], [0, 1]])\n",
    "print(\"k\")\n",
    "print(C @ I)\n",
    "\n",
    "# l)\n",
    "print(\"l\")\n",
    "print(A @ B.T)\n",
    "\n",
    "\n",
    "\n",
    "\n",
    "\n"
   ]
  },
  {
   "cell_type": "code",
   "execution_count": 266,
   "id": "168440af",
   "metadata": {},
   "outputs": [
    {
     "name": "stdout",
     "output_type": "stream",
     "text": [
      "uppgift_10.2.2\n"
     ]
    },
    {
     "data": {
      "text/plain": [
       "array([[29, 26],\n",
       "       [26, 42]])"
      ]
     },
     "execution_count": 266,
     "metadata": {},
     "output_type": "execute_result"
    }
   ],
   "source": [
    "# Uppgift 10.2.2 Definera matrisen \n",
    "\n",
    "A = np.array([[2, 3 ,4], [5, 4, 1]])\n",
    "\n",
    "print(\"uppgift_10.2.2\")\n",
    "A_T = A.T\n",
    "A @ A_T"
   ]
  },
  {
   "cell_type": "code",
   "execution_count": 250,
   "id": "bc1b6ee3",
   "metadata": {},
   "outputs": [],
   "source": [
    "# uppgift 10.2.3 \n",
    "\n",
    "A = np.array([[1, 2],[2, 4]])\n",
    "B = np.array([[2, 1],[1, 3]])\n",
    "C = np.array([[4, 3],[0, 2]])\n",
    "\n",
    "AB = A@B\n",
    "AC = A@C \n",
    "assert (AB == AC).all()\n",
    "assert not (B == C).all()"
   ]
  },
  {
   "cell_type": "code",
   "execution_count": 275,
   "id": "86f1bfac",
   "metadata": {},
   "outputs": [
    {
     "name": "stdout",
     "output_type": "stream",
     "text": [
      "[[ True  True]\n",
      " [ True  True]]\n"
     ]
    }
   ],
   "source": [
    "print(AB == AC)"
   ]
  },
  {
   "cell_type": "code",
   "execution_count": 274,
   "id": "45eb13f8",
   "metadata": {},
   "outputs": [
    {
     "name": "stdout",
     "output_type": "stream",
     "text": [
      "[[False False]\n",
      " [False False]]\n"
     ]
    }
   ],
   "source": [
    "print(B == C)"
   ]
  },
  {
   "cell_type": "markdown",
   "id": "6a4a524f",
   "metadata": {},
   "source": [
    "### Copies and Views\n",
    "Read the following link: https://numpy.org/doc/stable/user/basics.copies.html"
   ]
  },
  {
   "cell_type": "markdown",
   "id": "6cbbeaf7",
   "metadata": {},
   "source": [
    "**Basic indexing creates a view, How can you check if v1 and v2 is a view or copy? If you change the last element in v2 to 123, will the last element in v1 be changed? Why?**"
   ]
  },
  {
   "cell_type": "code",
   "execution_count": 251,
   "id": "5b9ef4df",
   "metadata": {},
   "outputs": [
    {
     "name": "stdout",
     "output_type": "stream",
     "text": [
      "[0 1 2 3]\n",
      "[2 3]\n"
     ]
    }
   ],
   "source": [
    "v1 = np.arange(4)\n",
    "v2 = v1[-2:]\n",
    "print(v1)\n",
    "print(v2)"
   ]
  },
  {
   "cell_type": "code",
   "execution_count": 267,
   "id": "d2440489",
   "metadata": {},
   "outputs": [
    {
     "name": "stdout",
     "output_type": "stream",
     "text": [
      "None\n",
      "[0 1 2 3]\n"
     ]
    }
   ],
   "source": [
    "# The base attribute of a view returns the original array while it returns None for a copy.\n",
    "print(v1.base)\n",
    "print(v2.base)"
   ]
  },
  {
   "cell_type": "code",
   "execution_count": 270,
   "id": "c8752807",
   "metadata": {},
   "outputs": [
    {
     "name": "stdout",
     "output_type": "stream",
     "text": [
      "[  0   1   2 123]\n",
      "[  2 123]\n",
      "None\n"
     ]
    }
   ],
   "source": [
    "# The last element in v1 will be changed aswell since v2 is a view, meaning they share the same data buffer.\n",
    "v2[-1] = 123\n",
    "print(v1)\n",
    "print(v2)\n",
    "print(v1.base)"
   ]
  },
  {
   "cell_type": "markdown",
   "id": "3dd68221",
   "metadata": {},
   "source": [
    "First of all, you can type print(v1.base) if its returns \"none\", then you can tell if the base attribut of ndarray is a view or a copy\n",
    "A veiw shares the same data as the orginal array witch means if you change something in the view array its affect the orginal array. The copy array is independent from the orginal array so changes in the copy array wont effect the orginal array. V1 is the base array, meaning v2 is a view of v1. If you do changeses in v2, v1 will also changes becuase its the same memory.  "
   ]
  }
 ],
 "metadata": {
  "kernelspec": {
   "display_name": "base",
   "language": "python",
   "name": "python3"
  },
  "language_info": {
   "codemirror_mode": {
    "name": "ipython",
    "version": 3
   },
   "file_extension": ".py",
   "mimetype": "text/x-python",
   "name": "python",
   "nbconvert_exporter": "python",
   "pygments_lexer": "ipython3",
   "version": "3.12.7"
  }
 },
 "nbformat": 4,
 "nbformat_minor": 5
}
